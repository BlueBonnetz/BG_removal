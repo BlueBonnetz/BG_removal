{
 "cells": [
  {
   "cell_type": "code",
   "execution_count": 1,
   "id": "186f927e",
   "metadata": {},
   "outputs": [],
   "source": [
    "import os\n",
    "import cv2\n",
    "import numpy as np\n",
    "from sklearn.model_selection import train_test_split\n",
    "from tensorflow.keras.layers import Conv2D, MaxPooling2D, UpSampling2D\n",
    "from tensorflow.keras.models import Sequential\n",
    "import tensorflow as tf\n",
    "from tensorflow import keras"
   ]
  },
  {
   "cell_type": "code",
   "execution_count": 2,
   "id": "2d46c695",
   "metadata": {},
   "outputs": [
    {
     "name": "stdout",
     "output_type": "stream",
     "text": [
      "--2024-03-15 20:00:19--  http://host.robots.ox.ac.uk/pascal/VOC/voc2012/VOCtrainval_11-May-2012.tar\n",
      "Resolving host.robots.ox.ac.uk... 129.67.94.152\n",
      "Connecting to host.robots.ox.ac.uk|129.67.94.152|:80... connected.\n",
      "HTTP request sent, awaiting response... 200 OK\n",
      "Length: 1999639040 (1.9G) [application/x-tar]\n",
      "Saving to: 'VOCtrainval_11-May-2012.tar.1'\n",
      "\n",
      "VOCtrainval_11-May- 100%[===================>]   1.86G  2.05MB/s    in 16m 3s  \n",
      "\n",
      "2024-03-15 20:16:23 (1.98 MB/s) - 'VOCtrainval_11-May-2012.tar.1' saved [1999639040/1999639040]\n",
      "\n"
     ]
    }
   ],
   "source": [
    "# Download the PASCAL VOC dataset\n",
    "!wget http://host.robots.ox.ac.uk/pascal/VOC/voc2012/VOCtrainval_11-May-2012.tar\n",
    "!tar xf VOCtrainval_11-May-2012.tar"
   ]
  },
  {
   "cell_type": "code",
   "execution_count": 3,
   "id": "deb8f37a",
   "metadata": {},
   "outputs": [],
   "source": [
    "# Define the paths to the images and annotations\n",
    "image_path = './VOCdevkit/VOC2012/JPEGImages'\n",
    "annotation_path = './VOCdevkit/VOC2012/Annotations'"
   ]
  },
  {
   "cell_type": "code",
   "execution_count": 4,
   "id": "531c0295",
   "metadata": {},
   "outputs": [
    {
     "name": "stdout",
     "output_type": "stream",
     "text": [
      "mkdir: ./images: File exists\n",
      "mkdir: ./masks: File exists\n"
     ]
    }
   ],
   "source": [
    "# Create directories to store the preprocessed images\n",
    "!mkdir ./images\n",
    "!mkdir ./masks"
   ]
  },
  {
   "cell_type": "code",
   "execution_count": 5,
   "id": "b16d5530",
   "metadata": {},
   "outputs": [],
   "source": [
    "# Preprocess the images\n",
    "img_size = (256, 256)\n",
    "\n",
    "for file in os.listdir('./VOCdevkit/VOC2012/JPEGImages'):\n",
    "    img = cv2.imread(os.path.join('./VOCdevkit/VOC2012/JPEGImages', file))\n",
    "    resized = cv2.resize(img, img_size)\n",
    "    cv2.imwrite(os.path.join('./images', file), resized)\n",
    "\n",
    "for file in os.listdir('./VOCdevkit/VOC2012/SegmentationClass'):\n",
    "    img = cv2.imread(os.path.join('./VOCdevkit/VOC2012/SegmentationClass', file), 0)\n",
    "    img[img != 15] = 0  # Set non-person pixels to 0\n",
    "    img[img == 15] = 1  # Set person pixels to 1\n",
    "    resized = cv2.resize(img, img_size)\n",
    "    cv2.imwrite(os.path.join('./masks', file), resized)"
   ]
  },
  {
   "cell_type": "code",
   "execution_count": 6,
   "id": "b18c0bc3",
   "metadata": {},
   "outputs": [],
   "source": [
    "# Load the preprocessed dataset\n",
    "images = []\n",
    "masks = []\n",
    "\n",
    "for file in os.listdir('./images'):\n",
    "    img = cv2.imread(os.path.join('./images', file))\n",
    "    mask_file = file[:-4] + '.png'\n",
    "    mask_path = os.path.join('./masks', mask_file)\n",
    "    if os.path.exists(mask_path):\n",
    "        mask = cv2.imread(mask_path, 0)\n",
    "        images.append(img)\n",
    "        masks.append(mask)\n",
    "\n",
    "# Convert the lists to arrays\n",
    "images = np.array(images)\n",
    "masks = np.array(masks)"
   ]
  },
  {
   "cell_type": "code",
   "execution_count": 7,
   "id": "67910579",
   "metadata": {},
   "outputs": [],
   "source": [
    "# Split the dataset into training and testing sets\n",
    "X_train, X_test, y_train, y_test = train_test_split(\n",
    "    images,\n",
    "    masks,\n",
    "    test_size=0.2,\n",
    "    random_state=42\n",
    ")"
   ]
  },
  {
   "cell_type": "code",
   "execution_count": 8,
   "id": "2554ab72",
   "metadata": {},
   "outputs": [
    {
     "name": "stderr",
     "output_type": "stream",
     "text": [
      "2024-03-15 20:17:42.490627: I tensorflow/core/platform/cpu_feature_guard.cc:193] This TensorFlow binary is optimized with oneAPI Deep Neural Network Library (oneDNN) to use the following CPU instructions in performance-critical operations:  SSE4.1 SSE4.2\n",
      "To enable them in other operations, rebuild TensorFlow with the appropriate compiler flags.\n"
     ]
    }
   ],
   "source": [
    "# Define the model architecture\n",
    "model = Sequential()\n",
    "model.add(Conv2D(32, (3, 3), activation='relu', padding='same', input_shape=X_train[0].shape))\n",
    "model.add(MaxPooling2D((2, 2), padding='same'))\n",
    "model.add(Conv2D(64, (3, 3), activation='relu', padding='same'))\n",
    "model.add(MaxPooling2D((2, 2), padding='same'))\n",
    "model.add(Conv2D(128, (3, 3), activation='relu', padding='same'))\n",
    "model.add(UpSampling2D((2, 2)))\n",
    "model.add(Conv2D(64, (3, 3), activation='relu', padding='same'))\n",
    "model.add(UpSampling2D((2, 2)))\n",
    "model.add(Conv2D(32, (3, 3), activation='relu', padding='same'))\n",
    "model.add(Conv2D(1, (3, 3), activation='sigmoid', padding='same'))"
   ]
  },
  {
   "cell_type": "code",
   "execution_count": 9,
   "id": "d9cd55a7",
   "metadata": {},
   "outputs": [],
   "source": [
    " callback = tf.keras.callbacks.EarlyStopping(monitor='loss', patience=3,restore_best_weights=True)"
   ]
  },
  {
   "cell_type": "code",
   "execution_count": 10,
   "id": "9af58979",
   "metadata": {},
   "outputs": [],
   "source": [
    "# Compile the model\n",
    "model.compile(optimizer='adam', loss='binary_crossentropy', metrics=['accuracy'])"
   ]
  },
  {
   "cell_type": "code",
   "execution_count": 12,
   "id": "19aa5c58",
   "metadata": {},
   "outputs": [
    {
     "name": "stdout",
     "output_type": "stream",
     "text": [
      "Epoch 1/10\n",
      "73/73 [==============================] - 552s 8s/step - loss: 1.5222e-08 - accuracy: 1.0000 - val_loss: 8.6026e-09 - val_accuracy: 1.0000\n",
      "Epoch 2/10\n",
      "73/73 [==============================] - 565s 8s/step - loss: 1.4148e-08 - accuracy: 1.0000 - val_loss: 7.9551e-09 - val_accuracy: 1.0000\n",
      "Epoch 3/10\n",
      "73/73 [==============================] - 552s 8s/step - loss: 1.3182e-08 - accuracy: 1.0000 - val_loss: 7.4366e-09 - val_accuracy: 1.0000\n",
      "Epoch 4/10\n",
      "73/73 [==============================] - 547s 8s/step - loss: 1.2343e-08 - accuracy: 1.0000 - val_loss: 6.9383e-09 - val_accuracy: 1.0000\n",
      "Epoch 5/10\n",
      "73/73 [==============================] - 571s 8s/step - loss: 1.1528e-08 - accuracy: 1.0000 - val_loss: 6.5504e-09 - val_accuracy: 1.0000\n",
      "Epoch 6/10\n",
      "73/73 [==============================] - 548s 8s/step - loss: 1.0814e-08 - accuracy: 1.0000 - val_loss: 6.1474e-09 - val_accuracy: 1.0000\n",
      "Epoch 7/10\n",
      "73/73 [==============================] - 554s 8s/step - loss: 1.0153e-08 - accuracy: 1.0000 - val_loss: 5.7496e-09 - val_accuracy: 1.0000\n",
      "Epoch 8/10\n",
      "73/73 [==============================] - 552s 8s/step - loss: 9.5492e-09 - accuracy: 1.0000 - val_loss: 5.4043e-09 - val_accuracy: 1.0000\n",
      "Epoch 9/10\n",
      "73/73 [==============================] - 551s 8s/step - loss: 8.9856e-09 - accuracy: 1.0000 - val_loss: 5.1026e-09 - val_accuracy: 1.0000\n",
      "Epoch 10/10\n",
      "73/73 [==============================] - 551s 8s/step - loss: 8.4818e-09 - accuracy: 1.0000 - val_loss: 4.8183e-09 - val_accuracy: 1.0000\n"
     ]
    }
   ],
   "source": [
    "# Train the model\n",
    "history = model.fit(X_train, y_train, epochs=10, batch_size=32, validation_data=(X_test, y_test), callbacks=[callback])"
   ]
  },
  {
   "cell_type": "code",
   "execution_count": 13,
   "id": "573a48e9",
   "metadata": {},
   "outputs": [],
   "source": [
    "# Save the model\n",
    "model.save('background_removal_model.h5')"
   ]
  },
  {
   "cell_type": "code",
   "execution_count": 14,
   "id": "b09ffcd3",
   "metadata": {},
   "outputs": [
    {
     "data": {
      "image/png": "[encoded data removed]",
      "text/plain": [
       "<Figure size 640x480 with 1 Axes>"
      ]
     },
     "metadata": {},
     "output_type": "display_data"
    }
   ],
   "source": [
    "from matplotlib import pyplot\n",
    "pyplot.title('Loss')\n",
    "pyplot.plot(history.history['loss'], label='train')\n",
    "pyplot.plot(history.history['val_loss'], label='test')\n",
    "pyplot.legend()\n",
    "pyplot.show()"
   ]
  },
  {
   "cell_type": "code",
   "execution_count": 15,
   "id": "5d973ab1",
   "metadata": {},
   "outputs": [],
   "source": [
    "from tensorflow.keras.models import load_model\n",
    "\n",
    "model = load_model('background_removal_model.h5')"
   ]
  },
  {
   "cell_type": "code",
   "execution_count": null,
   "id": "2e57a098",
   "metadata": {},
   "outputs": [],
   "source": []
  }
 ],
 "metadata": {
  "kernelspec": {
   "display_name": "Python 3 (ipykernel)",
   "language": "python",
   "name": "python3"
  },
  "language_info": {
   "codemirror_mode": {
    "name": "ipython",
    "version": 3
   },
   "file_extension": ".py",
   "mimetype": "text/x-python",
   "name": "python",
   "nbconvert_exporter": "python",
   "pygments_lexer": "ipython3",
   "version": "3.10.4"
  }
 },
 "nbformat": 4,
 "nbformat_minor": 5
}
